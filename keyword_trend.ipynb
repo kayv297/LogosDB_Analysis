{
 "cells": [
  {
   "cell_type": "code",
   "execution_count": 12,
   "metadata": {},
   "outputs": [],
   "source": [
    "from pyspark.sql import SparkSession\n",
    "from pyspark.sql.functions import split, explode, col\n",
    "from pyspark.sql.functions import count\n",
    "spark = SparkSession.builder.appName(\"keyword_trend\").getOrCreate()"
   ]
  },
  {
   "cell_type": "code",
   "execution_count": 3,
   "metadata": {},
   "outputs": [],
   "source": [
    "df = spark.read.csv(\"mock_data_unique.csv\", header=True, inferSchema=True)"
   ]
  },
  {
   "cell_type": "code",
   "execution_count": 15,
   "metadata": {},
   "outputs": [
    {
     "name": "stdout",
     "output_type": "stream",
     "text": [
      "LIST OF TOPICS:\n",
      "1. Entrepreneurship\t2. Space colonization\t3. Internet of Things\n",
      "4. Blockchain technology\t5. Cybersecurity\t6. Virtual education\n",
      "7. Ocean conservation\t8. Gender equality\t9. Biometric identification\n",
      "10. Artificial intelligence\t11. Urban planning\t12. Green energy\n",
      "13. Biomedical research\t14. Economic development\t15. Augmented reality\n",
      "16. Cultural diversity\t17. Renewable energy\t18. Consumer behavior\n",
      "19. Global health\t20. Conflict resolution\t21. Modern architecture\n",
      "22. Space exploration\t23. Smart cities\t24. Ethical dilemmas in technology\n",
      "25. Political polarization\t26. Disaster preparedness\t27. Environmental sustainability\n",
      "28. Alternative medicine\t29. Automation in industries\t30. Social inequality\n",
      "31. Aging population\t32. Quantum computing\t33. Virtual reality\n",
      "34. Art and technology\t35. Media literacy\t36. Human rights\n",
      "37. Bioinformatics\t38. Climate change\t39. Genetic engineering\n",
      "40. Internet censorship\t41. Robotics\t42. Sustainable agriculture\n",
      "43. Machine learning\t44. Data privacy\t45. Digital transformation\n",
      "46. Educational reform\t47. Neuroscience\t48. Wildlife conservation\n",
      "49. Food security\tTopic selected: Cybersecurity\n",
      "Top 50 keywords for the selected topic:\n",
      "+--------------------+-----+\n",
      "|             keyword|count|\n",
      "+--------------------+-----+\n",
      "|      J.R.R. Tolkien|  361|\n",
      "|  Muscle contraction|  353|\n",
      "|   Quantum Computing|  350|\n",
      "|       Linus Pauling|  225|\n",
      "|        Indianapolis|  220|\n",
      "|  George R.R. Martin|  217|\n",
      "|          Jonas Salk|  215|\n",
      "|               Italy|  215|\n",
      "|             Tablets|  210|\n",
      "|     Neuronal firing|  209|\n",
      "|   Geraldine Seydoux|  208|\n",
      "| Synaptic plasticity|  208|\n",
      "|             Phoenix|  207|\n",
      "|              Russia|  206|\n",
      "|             Mitosis|  206|\n",
      "|     Renewable Fuels|  204|\n",
      "|  Fusion and Fission|  204|\n",
      "|           Baltimore|  204|\n",
      "|   Leonardo da Vinci|  203|\n",
      "|             Wichita|  202|\n",
      "|            Columbus|  201|\n",
      "| Srinivasa Ramanujan|  201|\n",
      "|      Photosynthesis|  201|\n",
      "|        Lise Meitner|  201|\n",
      "|    Ernest Hemingway|  201|\n",
      "|     Immune response|  201|\n",
      "|          Louisville|  200|\n",
      "|            Portland|  200|\n",
      "|Johann Wolfgang v...|  200|\n",
      "|        Chaos Theory|  200|\n",
      "|   Neurotransmission|  200|\n",
      "|     DNA replication|  199|\n",
      "|      Cryptocurrency|  199|\n",
      "|    Charlotte Bronte|  199|\n",
      "|         Los Angeles|  198|\n",
      "|    Magnetostriction|  198|\n",
      "|              Optics|  198|\n",
      "|     Microprocessors|  198|\n",
      "|          Max Planck|  198|\n",
      "|                  5G|  198|\n",
      "|       Transcription|  198|\n",
      "|    Lipid metabolism|  197|\n",
      "|          Kinematics|  197|\n",
      "|          Fort Worth|  197|\n",
      "|          Satellites|  196|\n",
      "|Wave-Particle Dua...|  196|\n",
      "|             Chicago|  195|\n",
      "|        Jacksonville|  195|\n",
      "|      Energy Storage|  195|\n",
      "|Quantum Entanglement|  195|\n",
      "+--------------------+-----+\n",
      "only showing top 50 rows\n",
      "\n"
     ]
    }
   ],
   "source": [
    "print(\"LIST OF TOPICS:\")\n",
    "topics = df.select(\"topic\").distinct().rdd.flatMap(lambda x: x).collect()\n",
    "for i, topic in enumerate(topics, start=1):\n",
    "    if i % 3 == 0:\n",
    "        print(f\"{i}. {topic}\")\n",
    "    else:\n",
    "        print(f\"{i}. {topic}\", end=\"\\t\")\n",
    "\n",
    "topic = input(\"Enter the topic: \")\n",
    "if topic not in topics:\n",
    "    print(\"Topic not found!\")\n",
    "    exit()\n",
    "else:\n",
    "    print(f\"Topic selected: {topic}\")\n",
    "    print(\"Top 50 keywords for the selected topic:\")\n",
    "    df_bytopic = df.filter(df[\"topic\"] == topic)\n",
    "    df_kw_count = df_bytopic.withColumn(\"keywords\", split(col(\"keywords\"), \", \"))\n",
    "    df_kw_count = df_kw_count.withColumn(\"keyword\", explode(col(\"keywords\")))\n",
    "    df_kw_count.groupBy(\"keyword\").agg(count(\"keyword\").alias(\"count\")).sort(\"count\", ascending=False).show(50)"
   ]
  }
 ],
 "metadata": {
  "kernelspec": {
   "display_name": "Python 3",
   "language": "python",
   "name": "python3"
  },
  "language_info": {
   "codemirror_mode": {
    "name": "ipython",
    "version": 3
   },
   "file_extension": ".py",
   "mimetype": "text/x-python",
   "name": "python",
   "nbconvert_exporter": "python",
   "pygments_lexer": "ipython3",
   "version": "3.11.9"
  }
 },
 "nbformat": 4,
 "nbformat_minor": 2
}
